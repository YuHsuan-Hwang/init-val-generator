{
 "cells": [
  {
   "cell_type": "code",
   "execution_count": null,
   "metadata": {},
   "outputs": [],
   "source": [
    "path = \"\"\n",
    "url = \"\"\n",
    "id = -1"
   ]
  },
  {
   "cell_type": "code",
   "execution_count": null,
   "metadata": {},
   "outputs": [],
   "source": [
    "from astropy.io import fits\n",
    "import numpy as np\n",
    "from init_val_generator import InitValGenerator\n",
    "\n",
    "image_data = fits.getdata(path)\n",
    "\n",
    "index = 0\n",
    "while image_data.shape[index] == 1:\n",
    "    index = index + 1\n",
    "height = image_data.shape[index]\n",
    "width = image_data.shape[index + 1]\n",
    "\n",
    "image_data = np.reshape(image_data, width * height)\n",
    "\n",
    "guesser = InitValGenerator(\"2-fwhm-estimate\", \"3-sigma\")\n",
    "estimates = guesser.estimate(image_data, width, height, 3)\n",
    "print(estimates)"
   ]
  },
  {
   "cell_type": "code",
   "execution_count": null,
   "metadata": {},
   "outputs": [],
   "source": [
    "from carta.session import Session\n",
    "\n",
    "session = Session.interact(url, id)"
   ]
  },
  {
   "cell_type": "code",
   "execution_count": null,
   "metadata": {},
   "outputs": [],
   "source": [
    "img1 = session.open_image(path)\n",
    "img1.set_zoom_level(10)"
   ]
  },
  {
   "cell_type": "code",
   "execution_count": null,
   "metadata": {},
   "outputs": [],
   "source": [
    "for param in estimates:\n",
    "    amp, center_x, center_y, fwhm_x, fwhm_y, pa = param\n",
    "    region_id = img1.call_action(\"regionSet.addRegionAsync\", 4, [{\"x\": center_x, \"y\": center_y}, {\"x\": fwhm_x / 2, \"y\": fwhm_y / 2}], pa, \"test\", return_path=\"regionId\")\n",
    "    # img1.regions.add_ellipse([center_x, center_y], [fwhm_x / 2, fwhm_y / 2], rotation=int(pa))"
   ]
  },
  {
   "cell_type": "code",
   "execution_count": null,
   "metadata": {},
   "outputs": [],
   "source": [
    "from IPython.display import Image\n",
    "\n",
    "picture = Image(data=session.rendered_view_data(\"white\"),width=800)\n",
    "display(picture)"
   ]
  },
  {
   "cell_type": "code",
   "execution_count": null,
   "metadata": {},
   "outputs": [],
   "source": [
    "session.call_action(\"dialogStore.showDialog\", \"fitting-dialog\")"
   ]
  },
  {
   "cell_type": "code",
   "execution_count": null,
   "metadata": {},
   "outputs": [],
   "source": [
    "session.call_action(\"imageFittingStore.clearComponents\")\n",
    "session.call_action(\"imageFittingStore.setComponents\", len(estimates))\n",
    "\n",
    "for i in range(len(estimates)):\n",
    "    amp, center_x, center_y, fwhm_x, fwhm_y, pa = estimates[i]\n",
    "    session.call_action(\"imageFittingStore.components[{}].setCenterX\".format(i), center_x)\n",
    "    session.call_action(\"imageFittingStore.components[{}].setCenterY\".format(i), center_y)\n",
    "    session.call_action(\"imageFittingStore.components[{}].setAmplitude\".format(i), amp)\n",
    "    session.call_action(\"imageFittingStore.components[{}].setFwhmX\".format(i), fwhm_x)\n",
    "    session.call_action(\"imageFittingStore.components[{}].setFwhmY\".format(i), fwhm_y)\n",
    "    session.call_action(\"imageFittingStore.components[{}].setPa\".format(i), pa)"
   ]
  },
  {
   "cell_type": "code",
   "execution_count": null,
   "metadata": {},
   "outputs": [],
   "source": [
    "session.call_action(\"imageFittingStore.fitImage\")"
   ]
  },
  {
   "cell_type": "code",
   "execution_count": null,
   "metadata": {},
   "outputs": [],
   "source": [
    "session.call_action(\"imageFittingStore.createRegions\")"
   ]
  },
  {
   "cell_type": "code",
   "execution_count": null,
   "metadata": {},
   "outputs": [],
   "source": [
    "picture = Image(data=session.rendered_view_data(\"white\"),width=1200)\n",
    "display(picture)"
   ]
  }
 ],
 "metadata": {
  "kernelspec": {
   "display_name": "carta_env",
   "language": "python",
   "name": "python3"
  },
  "language_info": {
   "codemirror_mode": {
    "name": "ipython",
    "version": 3
   },
   "file_extension": ".py",
   "mimetype": "text/x-python",
   "name": "python",
   "nbconvert_exporter": "python",
   "pygments_lexer": "ipython3",
   "version": "3.12.2"
  }
 },
 "nbformat": 4,
 "nbformat_minor": 2
}
